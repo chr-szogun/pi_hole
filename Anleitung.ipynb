{
 "cells": [
  {
   "cell_type": "markdown",
   "metadata": {},
   "source": [
    "# Pi Hole Anleitung"
   ]
  },
  {
   "cell_type": "markdown",
   "metadata": {},
   "source": [
    "## 1. OS auswählen und herunterladen"
   ]
  },
  {
   "cell_type": "markdown",
   "metadata": {},
   "source": [
    "Dazu aus [OS Liste](https://docs.pi-hole.net/main/prerequesites/#supported-operating-systems \"Liste der von Pi-Hole unterstützten OS\") ein OS auswählen (ich empfehle Raspian-lite) und herunterladen\n"
   ]
  },
  {
   "cell_type": "markdown",
   "metadata": {},
   "source": [
    "## 2. Pi Zero aufsetzen und mit WLAN verbinden"
   ]
  },
  {
   "cell_type": "markdown",
   "metadata": {},
   "source": [
    "1. OS auf beigefügte Speicherkarte flashen (über [Rufus](https://rufus.ie/de_DE.html) o.ä.)\n",
    "2. WLAN einrichten\n",
    "  * wpa-supplicant-configfile schreiben (entweder alleine oder über das [Template](https://github.com/chr-szogun/pi_hole/blob/master/wpa_supplicant.conf)) \n",
    "  * leere ssh-datei (Ohne Endung!)\n",
    "  * Beide auf die Speicherkarte ziehen\n",
    "3. Micro-SD in Raspberry Pi einstecken und Pi einschalten\n",
    "4. Über Routerseite schauen, ob RasPi verbunden ist (dauert ein wenig) und IP-Adresse herausfinden\n"
   ]
  },
  {
   "cell_type": "markdown",
   "metadata": {},
   "source": [
    "## 3. Mit RasPi verbinden und PiHole installieren"
   ]
  },
  {
   "cell_type": "markdown",
   "metadata": {},
   "source": [
    "1. Konsole / Shell öffnen\n",
    "2. Per ssh verbinden (ssh pi@xxx.xxx.xxx.xxx [IP-Adresse]), Standard-PW: \"raspberry\"\n",
    "3. PiHole installieren\n",
    "  * `wget -O basic-install.sh https://install.pi-hole.net`\n",
    "  * `sudo bash basic-install.sh`\n",
    "  ---\n",
    "  #### oder\n",
    "  \n",
    "  * `git clone --depth 1 https://github.com/pi-hole/pi-hole.git Pi-hole`\n",
    "  * `cd \"Pi-hole/automated install/\"`\n",
    "  * `sudo bash basic-install.sh`\n",
    "  ---\n",
    "  #### dann\n",
    "  \n",
    "   Durch Installer führen lassen:\n",
    "  * schnellsten [DNS-Server](https://public-dns.info/) finden, oder den default vom router behalten\n",
    "  * Alle Filterlisten mitinstallieren"
   ]
  },
  {
   "cell_type": "markdown",
   "metadata": {},
   "source": [
    "## 4. RasPi als DNS-Server setzen"
   ]
  },
  {
   "cell_type": "markdown",
   "metadata": {},
   "source": [
    "In den Routereinstellungen auf der Routerseite die IP vom RasPi als DNS Server eintragen. Wie genau das geht, hängt vom Anbieter des Routers ab, einfach googlen.\n",
    "Als zweiten Server den bisher vorhandenen angeben, falls RasPi mal ausfällt / vom Netz genommen wird."
   ]
  },
  {
   "cell_type": "markdown",
   "metadata": {},
   "source": [
    "## 5. Weitere Filterlisten hinzufügen"
   ]
  },
  {
   "cell_type": "markdown",
   "metadata": {},
   "source": [
    "1. In der PiHole Admin Konsole einloggen (erreichbar unter `<IP-Adresse Pi>/admin` , in den Reiter \"Optionen\" wechseln, und dort in den Unterpunkt \"Blocklists\".\n",
    "2. Geeignete Blocklists suchen (sind alles Links zu Textdateien)\n",
    "  * [Hier](https://firebog.net/) ist z.B. die Sammlung die wir noch hinzugefügt haben\n",
    "3. Die Links per copy-paste in die Textbox einfügen (es sind sehr viele gleichzeitig möglich, also nicht einzeln kopieren, außer natürlich, du hast Langeweile)\n",
    "4. \"Save and Update\" - fertig!"
   ]
  },
  {
   "cell_type": "markdown",
   "metadata": {},
   "source": [
    "## 6. Weitere Hinweise"
   ]
  },
  {
   "cell_type": "markdown",
   "metadata": {},
   "source": [
    "* Je nach Filterlistensammlung, die du Hinzugefügt hast, kann es sein, dass du bestimmte Seiten wieder whitelisten musst. Dazu einfach in der Adminkonsole im Reiter \"Whitelist\" die entsprechende URL angeben\n",
    "* Nachdem die Installation fertig ist, würde ich noch die Passwörter, vor allem das für den Pi, ändern. Das geht mit `sudo passwd neues_pw`. Weiterhin überprüfen, ob dein wpa_supplicant auf *readable only by root* gesetzt wurde, ggf. ändern.  \n"
   ]
  },
  {
   "cell_type": "code",
   "execution_count": null,
   "metadata": {},
   "outputs": [],
   "source": []
  }
 ],
 "metadata": {
  "kernelspec": {
   "display_name": "Python 3",
   "language": "python",
   "name": "python3"
  },
  "language_info": {
   "codemirror_mode": {
    "name": "ipython",
    "version": 3
   },
   "file_extension": ".py",
   "mimetype": "text/x-python",
   "name": "python",
   "nbconvert_exporter": "python",
   "pygments_lexer": "ipython3",
   "version": "3.7.5"
  }
 },
 "nbformat": 4,
 "nbformat_minor": 2
}
